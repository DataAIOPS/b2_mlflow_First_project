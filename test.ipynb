{
 "cells": [
  {
   "cell_type": "code",
   "execution_count": 2,
   "metadata": {},
   "outputs": [],
   "source": [
    "import mlflow"
   ]
  },
  {
   "cell_type": "markdown",
   "metadata": {},
   "source": [
    "### Basic Mlflow Experiment"
   ]
  },
  {
   "cell_type": "code",
   "execution_count": 3,
   "metadata": {},
   "outputs": [],
   "source": [
    "with mlflow.start_run() as run:\n",
    "    mlflow.log_param(\"Fit_Intercept\",False)\n",
    "    mlflow.log_param(\"Alogorithin\",\"Stochastic Gradient Descnet\")\n",
    "    mlflow.log_metric(\"Accuracy\",95)\n",
    "    mlflow.log_metric(\"MSE\",1267)    "
   ]
  },
  {
   "cell_type": "markdown",
   "metadata": {},
   "source": [
    "### Customized Experiment"
   ]
  },
  {
   "cell_type": "code",
   "execution_count": 3,
   "metadata": {},
   "outputs": [
    {
     "name": "stderr",
     "output_type": "stream",
     "text": [
      "2024/12/10 08:31:55 INFO mlflow.tracking.fluent: Experiment with name 'my_experiment' does not exist. Creating a new experiment.\n"
     ]
    }
   ],
   "source": [
    "mlflow.set_experiment(\"my_experiment\")\n",
    "\n",
    "with mlflow.start_run(run_name=\"first_run\") as run:\n",
    "    mlflow.log_param(\"Fit_Intercept\",False)\n",
    "    mlflow.log_param(\"Alogorithin\",\"Stochastic Gradient Descnet\")\n",
    "    mlflow.log_metric(\"Accuracy\",95)\n",
    "    mlflow.log_metric(\"MSE\",1267)    "
   ]
  },
  {
   "cell_type": "markdown",
   "metadata": {},
   "source": [
    "### Remote mlflow setup\n"
   ]
  },
  {
   "cell_type": "code",
   "execution_count": 5,
   "metadata": {},
   "outputs": [],
   "source": [
    "import os\n",
    "os.environ[\"MLFLOW_TRACKING_URI\"] = \"https://dagshub.com/DataAIOPS/b2_mlflow_First_project.mlflow\"\n",
    "os.environ['MLFLOW_TRACKING_USERNAME'] = \"DataAIOPS\"\n",
    "os.environ['MLFLOW_TRACKING_PASSWORD'] = \"9775fb6f18d752814f34587ba0e1e3d988a189e4\""
   ]
  },
  {
   "cell_type": "code",
   "execution_count": null,
   "metadata": {},
   "outputs": [],
   "source": []
  },
  {
   "cell_type": "code",
   "execution_count": 14,
   "metadata": {},
   "outputs": [
    {
     "name": "stdout",
     "output_type": "stream",
     "text": [
      "🏃 View run second_run at: https://dagshub.com/DataAIOPS/b2_mlflow_First_project.mlflow/#/experiments/1/runs/4a75484b5c224e4b931e962a4146227e\n",
      "🧪 View experiment at: https://dagshub.com/DataAIOPS/b2_mlflow_First_project.mlflow/#/experiments/1\n"
     ]
    }
   ],
   "source": [
    "mlflow.set_experiment(\"Rahul\")\n",
    "\n",
    "with mlflow.start_run(run_name=\"second_run\") as run:\n",
    "    mlflow.log_param(\"Fit_Intercept\",False)\n",
    "    mlflow.log_param(\"Alogorithin\",\"Batch Gradient Descnet\")\n",
    "    mlflow.log_metric(\"Accuracy\",95)\n",
    "    mlflow.log_metric(\"MSE\",1267)    "
   ]
  },
  {
   "cell_type": "code",
   "execution_count": 15,
   "metadata": {},
   "outputs": [
    {
     "name": "stdout",
     "output_type": "stream",
     "text": [
      "🏃 View run second_run at: https://dagshub.com/DataAIOPS/b2_mlflow_First_project.mlflow/#/experiments/2/runs/905767f97e6847f2adab41241a616285\n",
      "🧪 View experiment at: https://dagshub.com/DataAIOPS/b2_mlflow_First_project.mlflow/#/experiments/2\n"
     ]
    }
   ],
   "source": [
    "mlflow.set_experiment(\"Ketan\")\n",
    "\n",
    "with mlflow.start_run(run_name=\"second_run\") as run:\n",
    "    mlflow.log_param(\"Fit_Intercept\",False)\n",
    "    mlflow.log_param(\"Alogorithin\",\"Batch Gradient Descnet\")\n",
    "    mlflow.log_metric(\"Accuracy\",50)\n",
    "    mlflow.log_metric(\"MSE\",1267)    "
   ]
  },
  {
   "cell_type": "code",
   "execution_count": null,
   "metadata": {},
   "outputs": [],
   "source": [
    "import os\n",
    "\n",
    "\n",
    "\n"
   ]
  },
  {
   "cell_type": "code",
   "execution_count": 17,
   "metadata": {},
   "outputs": [],
   "source": [
    "def fetch_latest_model():\n",
    "    model_path = os.path.abspath(\"artifacts/models/raw_model\")\n",
    "    temp = os.listdir(model_path)\n",
    "    temp.sort()\n",
    "    model_name = temp[-1]\n",
    "    model_name_path = os.path.join(model_path,model_name)\n",
    "    return model_name_path\n"
   ]
  },
  {
   "cell_type": "markdown",
   "metadata": {},
   "source": []
  },
  {
   "cell_type": "code",
   "execution_count": 18,
   "metadata": {},
   "outputs": [
    {
     "data": {
      "text/plain": [
       "'c:\\\\Users\\\\shubh\\\\Desktop\\\\delete\\\\mlflow\\\\B2\\\\artifacts\\\\models\\\\raw_model\\\\1735182711_model.pkl'"
      ]
     },
     "execution_count": 18,
     "metadata": {},
     "output_type": "execute_result"
    }
   ],
   "source": [
    "fetch_latest_model()"
   ]
  },
  {
   "cell_type": "code",
   "execution_count": null,
   "metadata": {},
   "outputs": [
    {
     "data": {
      "text/plain": [
       "'1735182711_model.pkl'"
      ]
     },
     "execution_count": 9,
     "metadata": {},
     "output_type": "execute_result"
    }
   ],
   "source": []
  },
  {
   "cell_type": "code",
   "execution_count": null,
   "metadata": {},
   "outputs": [],
   "source": []
  }
 ],
 "metadata": {
  "kernelspec": {
   "display_name": "mlflow_B2",
   "language": "python",
   "name": "python3"
  },
  "language_info": {
   "codemirror_mode": {
    "name": "ipython",
    "version": 3
   },
   "file_extension": ".py",
   "mimetype": "text/x-python",
   "name": "python",
   "nbconvert_exporter": "python",
   "pygments_lexer": "ipython3",
   "version": "3.11.5"
  }
 },
 "nbformat": 4,
 "nbformat_minor": 2
}
